{
 "cells": [
  {
   "cell_type": "code",
   "execution_count": 1,
   "outputs": [
    {
     "name": "stdout",
     "output_type": "stream",
     "text": [
      "Requirement already satisfied: lightfm in ./lightfm (1.17)\r\n",
      "Requirement already satisfied: numpy in /opt/conda/lib/python3.11/site-packages (from lightfm) (1.24.3)\r\n",
      "Requirement already satisfied: scipy>=0.17.0 in /opt/conda/lib/python3.11/site-packages (from lightfm) (1.11.1)\r\n",
      "Requirement already satisfied: requests in /opt/conda/lib/python3.11/site-packages (from lightfm) (2.29.0)\r\n",
      "Requirement already satisfied: scikit-learn in /opt/conda/lib/python3.11/site-packages (from lightfm) (1.3.0)\r\n",
      "Requirement already satisfied: charset-normalizer<4,>=2 in /opt/conda/lib/python3.11/site-packages (from requests->lightfm) (2.0.4)\r\n",
      "Requirement already satisfied: idna<4,>=2.5 in /opt/conda/lib/python3.11/site-packages (from requests->lightfm) (3.4)\r\n",
      "Requirement already satisfied: urllib3<1.27,>=1.21.1 in /opt/conda/lib/python3.11/site-packages (from requests->lightfm) (1.26.16)\r\n",
      "Requirement already satisfied: certifi>=2017.4.17 in /opt/conda/lib/python3.11/site-packages (from requests->lightfm) (2023.7.22)\r\n",
      "Requirement already satisfied: joblib>=1.1.1 in /opt/conda/lib/python3.11/site-packages (from scikit-learn->lightfm) (1.2.0)\r\n",
      "Requirement already satisfied: threadpoolctl>=2.0.0 in /opt/conda/lib/python3.11/site-packages (from scikit-learn->lightfm) (2.2.0)\r\n",
      "\u001B[33mWARNING: Running pip as the 'root' user can result in broken permissions and conflicting behaviour with the system package manager. It is recommended to use a virtual environment instead: https://pip.pypa.io/warnings/venv\u001B[0m\u001B[33m\r\n",
      "\u001B[0mNote: you may need to restart the kernel to use updated packages.\n"
     ]
    }
   ],
   "source": [
    "%pip install lightfm"
   ],
   "metadata": {
    "collapsed": false,
    "ExecuteTime": {
     "end_time": "2023-09-10T01:41:36.041644200Z",
     "start_time": "2023-09-10T01:41:32.070453400Z"
    }
   },
   "id": "1105998ed057d07"
  },
  {
   "cell_type": "code",
   "execution_count": 2,
   "outputs": [],
   "source": [
    "import numpy as np\n",
    "from lightfm import LightFM\n",
    "from lightfm.evaluation import precision_at_k\n",
    "import pandas as pd\n",
    "from scipy.sparse import csr_matrix\n",
    "\n",
    "BASE_PATH = ''"
   ],
   "metadata": {
    "collapsed": false,
    "ExecuteTime": {
     "end_time": "2023-09-10T09:18:02.454401200Z",
     "start_time": "2023-09-10T09:18:02.235507800Z"
    }
   },
   "id": "7073adca77282ec7"
  },
  {
   "cell_type": "code",
   "execution_count": 3,
   "outputs": [],
   "source": [
    "# Загрузка и обработка данных\n",
    "users = pd.read_csv(BASE_PATH + \"small_player_starts_train.csv\")\n",
    "# users = users.sample(frac=0.01, random_state=42)  # Обрезаем датасет (только для демонстрации)\n",
    "users['user_id_num'] = users['user_id'].str.split('_').str.get(1).astype(int)\n",
    "users['item_id_num'] = users['item_id'].str.split('_').str.get(1).astype(int)\n",
    "\n",
    "# Создаем разреженную матрицу\n",
    "user_ids = users['user_id_num'].values\n",
    "item_ids = users['item_id_num'].values\n",
    "\n",
    "# Предполагая, что у вас есть столбец с рейтингами/взаимодействиями\n",
    "# Если его нет, можно просто использовать np.ones_like(user_ids)\n",
    "ratings = np.ones_like(user_ids)\n",
    "\n",
    "data_crosstab = csr_matrix((ratings, (user_ids, item_ids)))"
   ],
   "metadata": {
    "collapsed": false,
    "ExecuteTime": {
     "end_time": "2023-09-10T09:18:35.316558100Z",
     "start_time": "2023-09-10T09:18:13.880301Z"
    }
   },
   "id": "9bbb6fef7092d009"
  },
  {
   "cell_type": "code",
   "execution_count": 4,
   "outputs": [],
   "source": [
    "# У вас уже есть разреженная матрица взаимодействий, поэтому нет необходимости создавать ее снова.\n",
    "interactions_csr = data_crosstab\n",
    "\n",
    "# Предположим, что у вас есть список уникальных user_id и item_id, которые вы использовали при создании data_crosstab\n",
    "unique_user_ids = np.unique(users['user_id_num'])\n",
    "unique_item_ids = np.unique(users['item_id_num'])\n",
    "\n",
    "# Создание отображений\n",
    "user_id_mapping = {real_id: idx for idx, real_id in enumerate(unique_user_ids)}\n",
    "item_id_mapping = {real_id: idx for idx, real_id in enumerate(unique_item_ids)}\n",
    "\n",
    "# Предварительная генерация массива для быстрого поиска\n",
    "item_lookup_array = np.empty(interactions_csr.shape[1], dtype=np.int64)\n",
    "for real_id, idx in item_id_mapping.items():\n",
    "    item_lookup_array[idx] = real_id\n"
   ],
   "metadata": {
    "collapsed": false,
    "ExecuteTime": {
     "end_time": "2023-09-10T09:18:39.125500300Z",
     "start_time": "2023-09-10T09:18:37.969571600Z"
    }
   },
   "id": "e1cde03f34c77e31"
  },
  {
   "cell_type": "code",
   "execution_count": null,
   "outputs": [
    {
     "name": "stderr",
     "output_type": "stream",
     "text": [
      "INFO:root:Starting epoch 1\n"
     ]
    }
   ],
   "source": [
    "# import logging\n",
    "# from lightfm.evaluation import precision_at_k\n",
    "# \n",
    "# # Настройка логгирования\n",
    "# logging.basicConfig(level=logging.INFO)\n",
    "# \n",
    "# # Параметры модели и обучения\n",
    "# k = 5\n",
    "# epochs = 10\n",
    "# num_threads = 4\n",
    "# \n",
    "# # Инициализация модели\n",
    "# model = LightFM(no_components=20, loss='bpr', k=k)\n",
    "# \n",
    "# # Обучение модели с логгированием\n",
    "# for epoch in range(epochs):\n",
    "#     logging.info(f\"Starting epoch {epoch + 1}\")\n",
    "#     model.fit_partial(interactions_csr, epochs=1, num_threads=num_threads)  # Обучение на одной эпохе\n",
    "#     precision = precision_at_k(model, interactions_csr, k=k).mean()\n",
    "#     logging.info(f\"Completed epoch {epoch + 1}, Precision at {k}: {precision}\")"
   ],
   "metadata": {
    "collapsed": false,
    "is_executing": true,
    "ExecuteTime": {
     "start_time": "2023-09-10T07:23:12.183098700Z"
    }
   },
   "id": "261672e086a4358f"
  },
  {
   "cell_type": "code",
   "execution_count": null,
   "outputs": [],
   "source": [
    "# Обучение модели\n",
    "model = LightFM(no_components=20, loss='warp', k=5)\n",
    "model.fit(interactions_csr, epochs=10, num_threads=4)"
   ],
   "metadata": {
    "collapsed": false,
    "is_executing": true,
    "ExecuteTime": {
     "start_time": "2023-09-10T09:18:45.385388100Z"
    }
   },
   "id": "b291f20cb37ca0a"
  },
  {
   "cell_type": "code",
   "execution_count": null,
   "outputs": [],
   "source": [
    "# Оценка модели\n",
    "train_precision = precision_at_k(model, interactions_csr, k=5).mean()\n",
    "print(f'Train precision at k=5: {train_precision}')"
   ],
   "metadata": {
    "collapsed": false,
    "is_executing": true
   },
   "id": "d83dc0550af2f431"
  },
  {
   "cell_type": "code",
   "execution_count": null,
   "outputs": [],
   "source": [
    "videos = pd.read_parquet(BASE_PATH + \"videos.parquet\")\n",
    "videos_t = videos.sort_values(by='channel_sub', ascending=False)\n",
    "top_videos = videos_t['video_id'].values[:100]\n",
    "# Функция рекомендации\n",
    "def recommend_for_user_fast(real_user_id):\n",
    "    internal_user_id = user_id_mapping.get(real_user_id)\n",
    "    if internal_user_id is None:\n",
    "        print(f\"User {real_user_id} is not in the data.\")\n",
    "        top_videos = np.random.choice(top_videos, size=10, replace=False)\n",
    "        return top_videos\n",
    "\n",
    "    n_users, n_items = interactions_csr.shape\n",
    "    scores = model.predict(internal_user_id, np.arange(n_items))\n",
    "    top_items = np.argsort(-scores)[:10]\n",
    "\n",
    "    top_real_item_ids = item_lookup_array[top_items]\n",
    "\n",
    "    return top_real_item_ids"
   ],
   "metadata": {
    "collapsed": false,
    "is_executing": true
   },
   "id": "e6a94b6ca630e96f"
  },
  {
   "cell_type": "code",
   "execution_count": 24,
   "outputs": [
    {
     "name": "stdout",
     "output_type": "stream",
     "text": [
      "Recommended items for user 5030883: [ 283933   68646 1122625  836422 1508623]\n"
     ]
    }
   ],
   "source": [
    "real_user_id = 5030883 # Замените на реальный user_id из вашего датасета\n",
    "recommended_item_ids = recommend_for_user_fast(real_user_id)\n",
    "print(f\"Recommended items for user {real_user_id}: {recommended_item_ids}\")\n",
    "\n"
   ],
   "metadata": {
    "collapsed": false,
    "ExecuteTime": {
     "end_time": "2023-09-10T05:11:14.032943200Z",
     "start_time": "2023-09-10T05:11:14.007208400Z"
    }
   },
   "id": "6e8853bfcaae3ee"
  },
  {
   "cell_type": "code",
   "execution_count": null,
   "outputs": [],
   "source": [
    "# Открытие файла sample_submission.csv\n",
    "submission = pd.read_csv(BASE_PATH + \"sample_submission.csv\")\n",
    "\n",
    "# Создаем пустой список для хранения рекомендаций\n",
    "recommendations = []\n",
    "\n",
    "# В цикле берем значения user_id из submission и вызываем функцию recommend_for_user_fast\n",
    "for user_id in submission['user_id']:\n",
    "    recs = recommend_for_user_fast(user_id)\n",
    "    # Преобразуем рекомендации в строку, разделенную пробелами (или другим разделителем по вашему выбору)\n",
    "    recs_str = \" \".join(map(str, recs))\n",
    "    recommendations.append(recs_str)\n",
    "\n",
    "# Записываем результат в колонку recs в submission\n",
    "submission['recs'] = recommendations\n",
    "\n",
    "# Сохраняем измененный DataFrame в новый CSV-файл\n",
    "submission.to_csv(BASE_PATH + \"new_sample_submission.csv\", index=False)\n"
   ],
   "metadata": {
    "collapsed": false,
    "is_executing": true
   },
   "id": "7395ae3cfb2b4f0c"
  },
  {
   "cell_type": "code",
   "execution_count": 22,
   "outputs": [
    {
     "data": {
      "text/plain": "                              date        user_id        item_id  watch_time  \\\n558731   2023-08-21 23:27:33+03:00  user_17524578   video_169885          40   \n1513034  2023-08-21 10:10:41+03:00   user_5030883  video_1122625           2   \n404058   2023-08-21 18:41:15+03:00  user_19163580  video_1546491           1   \n1249443  2023-08-21 01:20:33+03:00   user_3710106  video_1692997           2   \n540190   2023-08-21 21:53:50+03:00  user_25875618  video_1577488         151   \n\n         is_autorized  user_id_num  item_id_num  \n558731              1     17524578       169885  \n1513034             0      5030883      1122625  \n404058              0     19163580      1546491  \n1249443             0      3710106      1692997  \n540190              0     25875618      1577488  ",
      "text/html": "<div>\n<style scoped>\n    .dataframe tbody tr th:only-of-type {\n        vertical-align: middle;\n    }\n\n    .dataframe tbody tr th {\n        vertical-align: top;\n    }\n\n    .dataframe thead th {\n        text-align: right;\n    }\n</style>\n<table border=\"1\" class=\"dataframe\">\n  <thead>\n    <tr style=\"text-align: right;\">\n      <th></th>\n      <th>date</th>\n      <th>user_id</th>\n      <th>item_id</th>\n      <th>watch_time</th>\n      <th>is_autorized</th>\n      <th>user_id_num</th>\n      <th>item_id_num</th>\n    </tr>\n  </thead>\n  <tbody>\n    <tr>\n      <th>558731</th>\n      <td>2023-08-21 23:27:33+03:00</td>\n      <td>user_17524578</td>\n      <td>video_169885</td>\n      <td>40</td>\n      <td>1</td>\n      <td>17524578</td>\n      <td>169885</td>\n    </tr>\n    <tr>\n      <th>1513034</th>\n      <td>2023-08-21 10:10:41+03:00</td>\n      <td>user_5030883</td>\n      <td>video_1122625</td>\n      <td>2</td>\n      <td>0</td>\n      <td>5030883</td>\n      <td>1122625</td>\n    </tr>\n    <tr>\n      <th>404058</th>\n      <td>2023-08-21 18:41:15+03:00</td>\n      <td>user_19163580</td>\n      <td>video_1546491</td>\n      <td>1</td>\n      <td>0</td>\n      <td>19163580</td>\n      <td>1546491</td>\n    </tr>\n    <tr>\n      <th>1249443</th>\n      <td>2023-08-21 01:20:33+03:00</td>\n      <td>user_3710106</td>\n      <td>video_1692997</td>\n      <td>2</td>\n      <td>0</td>\n      <td>3710106</td>\n      <td>1692997</td>\n    </tr>\n    <tr>\n      <th>540190</th>\n      <td>2023-08-21 21:53:50+03:00</td>\n      <td>user_25875618</td>\n      <td>video_1577488</td>\n      <td>151</td>\n      <td>0</td>\n      <td>25875618</td>\n      <td>1577488</td>\n    </tr>\n  </tbody>\n</table>\n</div>"
     },
     "execution_count": 22,
     "metadata": {},
     "output_type": "execute_result"
    }
   ],
   "source": [
    "users.head()"
   ],
   "metadata": {
    "collapsed": false,
    "ExecuteTime": {
     "end_time": "2023-09-10T02:27:06.723601100Z",
     "start_time": "2023-09-10T02:27:06.666234600Z"
    }
   },
   "id": "9c5c56b91673e642"
  }
 ],
 "metadata": {
  "kernelspec": {
   "display_name": "Python 3",
   "language": "python",
   "name": "python3"
  },
  "language_info": {
   "codemirror_mode": {
    "name": "ipython",
    "version": 2
   },
   "file_extension": ".py",
   "mimetype": "text/x-python",
   "name": "python",
   "nbconvert_exporter": "python",
   "pygments_lexer": "ipython2",
   "version": "2.7.6"
  }
 },
 "nbformat": 4,
 "nbformat_minor": 5
}
