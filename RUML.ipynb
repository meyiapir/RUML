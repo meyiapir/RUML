{
  "cells": [
    {
      "cell_type": "code",
      "execution_count": 1,
      "metadata": {
        "id": "8vyiqTg-dM0o",
        "colab": {
          "base_uri": "https://localhost:8080/"
        },
        "outputId": "9f32da50-4be2-4535-f7de-db0d1b6a3801"
      },
      "outputs": [
        {
          "output_type": "stream",
          "name": "stdout",
          "text": [
            "Requirement already satisfied: lightfm in /usr/local/lib/python3.10/dist-packages (1.17)\n",
            "Requirement already satisfied: numpy in /usr/local/lib/python3.10/dist-packages (from lightfm) (1.23.5)\n",
            "Requirement already satisfied: scipy>=0.17.0 in /usr/local/lib/python3.10/dist-packages (from lightfm) (1.10.1)\n",
            "Requirement already satisfied: requests in /usr/local/lib/python3.10/dist-packages (from lightfm) (2.31.0)\n",
            "Requirement already satisfied: scikit-learn in /usr/local/lib/python3.10/dist-packages (from lightfm) (1.2.2)\n",
            "Requirement already satisfied: charset-normalizer<4,>=2 in /usr/local/lib/python3.10/dist-packages (from requests->lightfm) (3.2.0)\n",
            "Requirement already satisfied: idna<4,>=2.5 in /usr/local/lib/python3.10/dist-packages (from requests->lightfm) (3.4)\n",
            "Requirement already satisfied: urllib3<3,>=1.21.1 in /usr/local/lib/python3.10/dist-packages (from requests->lightfm) (2.0.4)\n",
            "Requirement already satisfied: certifi>=2017.4.17 in /usr/local/lib/python3.10/dist-packages (from requests->lightfm) (2023.7.22)\n",
            "Requirement already satisfied: joblib>=1.1.1 in /usr/local/lib/python3.10/dist-packages (from scikit-learn->lightfm) (1.3.2)\n",
            "Requirement already satisfied: threadpoolctl>=2.0.0 in /usr/local/lib/python3.10/dist-packages (from scikit-learn->lightfm) (3.2.0)\n"
          ]
        }
      ],
      "source": [
        "%pip install lightfm"
      ]
    },
    {
      "cell_type": "code",
      "execution_count": 3,
      "metadata": {
        "id": "plwP2Ndodotp"
      },
      "outputs": [],
      "source": [
        "import numpy as np\n",
        "from lightfm import LightFM\n",
        "from lightfm.evaluation import precision_at_k\n",
        "import pandas as pd\n",
        "from scipy.sparse import csr_matrix\n",
        "import dask.dataframe as dd\n",
        "from joblib import dump, load\n",
        "BASE_PATH = 'drive/MyDrive/'"
      ]
    },
    {
      "cell_type": "code",
      "execution_count": 4,
      "metadata": {
        "id": "MPn_9y50H_Fy"
      },
      "outputs": [],
      "source": [
        "# Загрузка и обработка данных\n",
        "users = pd.read_csv(BASE_PATH + \"small_player_starts_train.csv\")\n",
        "#users = users.sample(frac=0.5, random_state=42)  # Обрезаем датасет (только для демонстрации)\n",
        "\n",
        "\n",
        "users['user_id_num'] = users['user_id'].str.split('_').str.get(1).astype(int)\n",
        "users['item_id_num'] = users['item_id'].str.split('_').str.get(1).astype(int)\n",
        "\n",
        "# Создаем разреженную матрицу\n",
        "user_ids = users['user_id_num'].values\n",
        "item_ids = users['item_id_num'].values\n",
        "\n",
        "# Предполагая, что у вас есть столбец с рейтингами/взаимодействиями\n",
        "# Если его нет, можно просто использовать np.ones_like(user_ids)\n",
        "ratings = np.ones_like(user_ids)\n",
        "\n",
        "data_crosstab = csr_matrix((ratings, (user_ids, item_ids)))"
      ]
    },
    {
      "cell_type": "code",
      "execution_count": 5,
      "metadata": {
        "id": "LfiC5MtGX2Yt"
      },
      "outputs": [],
      "source": [
        "# У вас уже есть разреженная матрица взаимодействий, поэтому нет необходимости создавать ее снова.\n",
        "interactions_csr = data_crosstab\n",
        "\n",
        "# Предположим, что у вас есть список уникальных user_id и item_id, которые вы использовали при создании data_crosstab\n",
        "unique_user_ids = np.unique(users['user_id_num'])\n",
        "unique_item_ids = np.unique(users['item_id_num'])\n",
        "\n",
        "# Создание отображений\n",
        "user_id_mapping = {real_id: idx for idx, real_id in enumerate(unique_user_ids)}\n",
        "item_id_mapping = {real_id: idx for idx, real_id in enumerate(unique_item_ids)}\n",
        "\n",
        "# Предварительная генерация массива для быстрого поиска\n",
        "item_lookup_array = np.empty(interactions_csr.shape[1], dtype=np.int64)\n",
        "for real_id, idx in item_id_mapping.items():\n",
        "    item_lookup_array[idx] = real_id"
      ]
    },
    {
      "cell_type": "code",
      "source": [
        "# Обучение модели\n",
        "model = LightFM(no_components=20, loss='warp', k=5)\n",
        "model.fit(interactions_csr, epochs=10, num_threads=4)"
      ],
      "metadata": {
        "id": "aWLsuncnKr6V"
      },
      "execution_count": null,
      "outputs": []
    },
    {
      "cell_type": "code",
      "source": [
        "dump(model, 'lightfm_model.joblib')"
      ],
      "metadata": {
        "colab": {
          "base_uri": "https://localhost:8080/"
        },
        "id": "wa3T9J_ndh-r",
        "outputId": "50718efc-6e74-4ecf-a6a9-9d112bd4ae20"
      },
      "execution_count": null,
      "outputs": [
        {
          "output_type": "execute_result",
          "data": {
            "text/plain": [
              "['lightfm_model.joblib']"
            ]
          },
          "metadata": {},
          "execution_count": 9
        }
      ]
    },
    {
      "cell_type": "code",
      "source": [
        "model = load('lightfm_model.joblib')"
      ],
      "metadata": {
        "id": "LeBWbydWsRY2"
      },
      "execution_count": null,
      "outputs": []
    },
    {
      "cell_type": "code",
      "execution_count": null,
      "metadata": {
        "id": "XpntTEfNX34h"
      },
      "outputs": [],
      "source": [
        "# Оценка модели\n",
        "train_precision = precision_at_k(model, interactions_csr, k=5).mean()\n",
        "print(f'Train precision at k=5: {train_precision}')"
      ]
    },
    {
      "cell_type": "code",
      "source": [
        "#videos = pd.read_parquet(BASE_PATH + \"videos.parquet\")\n",
        "#videos = dd.read_parquet(BASE_PATH + 'videos.parquet', engine='pyarrow')\n",
        "\n",
        "#videos_t = videos.sort_values(by='channel_sub', ascending=False)\n",
        "#top_videos = videos_t['video_id'].values[:100]\n",
        "\n",
        "# Функция рекомендации\n",
        "def recommend_for_user_fast(real_user_id):\n",
        "    internal_user_id = user_id_mapping.get(real_user_id)\n",
        "    if internal_user_id is None:\n",
        "        print(f\"User {real_user_id} is not in the data.\")\n",
        "        #top_videos = np.random.choice(top_videos, size=10, replace=False)\n",
        "        #return top_videos\n",
        "        return []\n",
        "\n",
        "    n_users, n_items = interactions_csr.shape\n",
        "    scores = model.predict(internal_user_id, np.arange(n_items))\n",
        "    top_items = np.argsort(-scores)[:5]\n",
        "\n",
        "    top_real_item_ids = item_lookup_array[top_items]\n",
        "\n",
        "    return top_real_item_ids"
      ],
      "metadata": {
        "id": "f9-LnkA3_RVZ"
      },
      "execution_count": null,
      "outputs": []
    },
    {
      "cell_type": "code",
      "source": [
        "users.head()"
      ],
      "metadata": {
        "colab": {
          "base_uri": "https://localhost:8080/",
          "height": 206
        },
        "id": "wc7dgTIMupHO",
        "outputId": "4ad6a4ba-7868-45c0-9def-09a245d8a7f0"
      },
      "execution_count": null,
      "outputs": [
        {
          "output_type": "execute_result",
          "data": {
            "text/plain": [
              "                        date        user_id        item_id  watch_time  \\\n",
              "0  2023-08-21 15:53:30+03:00   user_7941459  video_1535803          22   \n",
              "1  2023-08-21 16:17:58+03:00  user_17893165   video_796847         374   \n",
              "2  2023-08-21 21:18:12+03:00  user_25219604  video_1905049          11   \n",
              "4  2023-08-21 17:24:32+03:00  user_25483180   video_500499          20   \n",
              "5  2023-08-21 08:33:26+03:00   user_3530167  video_1508131          21   \n",
              "\n",
              "   is_autorized  user_id_num  item_id_num  \n",
              "0             0      7941459      1535803  \n",
              "1             0     17893165       796847  \n",
              "2             0     25219604      1905049  \n",
              "4             0     25483180       500499  \n",
              "5             0      3530167      1508131  "
            ],
            "text/html": [
              "\n",
              "  <div id=\"df-49bd3b51-4453-447e-a32b-c1a0572011b7\" class=\"colab-df-container\">\n",
              "    <div>\n",
              "<style scoped>\n",
              "    .dataframe tbody tr th:only-of-type {\n",
              "        vertical-align: middle;\n",
              "    }\n",
              "\n",
              "    .dataframe tbody tr th {\n",
              "        vertical-align: top;\n",
              "    }\n",
              "\n",
              "    .dataframe thead th {\n",
              "        text-align: right;\n",
              "    }\n",
              "</style>\n",
              "<table border=\"1\" class=\"dataframe\">\n",
              "  <thead>\n",
              "    <tr style=\"text-align: right;\">\n",
              "      <th></th>\n",
              "      <th>date</th>\n",
              "      <th>user_id</th>\n",
              "      <th>item_id</th>\n",
              "      <th>watch_time</th>\n",
              "      <th>is_autorized</th>\n",
              "      <th>user_id_num</th>\n",
              "      <th>item_id_num</th>\n",
              "    </tr>\n",
              "  </thead>\n",
              "  <tbody>\n",
              "    <tr>\n",
              "      <th>0</th>\n",
              "      <td>2023-08-21 15:53:30+03:00</td>\n",
              "      <td>user_7941459</td>\n",
              "      <td>video_1535803</td>\n",
              "      <td>22</td>\n",
              "      <td>0</td>\n",
              "      <td>7941459</td>\n",
              "      <td>1535803</td>\n",
              "    </tr>\n",
              "    <tr>\n",
              "      <th>1</th>\n",
              "      <td>2023-08-21 16:17:58+03:00</td>\n",
              "      <td>user_17893165</td>\n",
              "      <td>video_796847</td>\n",
              "      <td>374</td>\n",
              "      <td>0</td>\n",
              "      <td>17893165</td>\n",
              "      <td>796847</td>\n",
              "    </tr>\n",
              "    <tr>\n",
              "      <th>2</th>\n",
              "      <td>2023-08-21 21:18:12+03:00</td>\n",
              "      <td>user_25219604</td>\n",
              "      <td>video_1905049</td>\n",
              "      <td>11</td>\n",
              "      <td>0</td>\n",
              "      <td>25219604</td>\n",
              "      <td>1905049</td>\n",
              "    </tr>\n",
              "    <tr>\n",
              "      <th>4</th>\n",
              "      <td>2023-08-21 17:24:32+03:00</td>\n",
              "      <td>user_25483180</td>\n",
              "      <td>video_500499</td>\n",
              "      <td>20</td>\n",
              "      <td>0</td>\n",
              "      <td>25483180</td>\n",
              "      <td>500499</td>\n",
              "    </tr>\n",
              "    <tr>\n",
              "      <th>5</th>\n",
              "      <td>2023-08-21 08:33:26+03:00</td>\n",
              "      <td>user_3530167</td>\n",
              "      <td>video_1508131</td>\n",
              "      <td>21</td>\n",
              "      <td>0</td>\n",
              "      <td>3530167</td>\n",
              "      <td>1508131</td>\n",
              "    </tr>\n",
              "  </tbody>\n",
              "</table>\n",
              "</div>\n",
              "    <div class=\"colab-df-buttons\">\n",
              "\n",
              "  <div class=\"colab-df-container\">\n",
              "    <button class=\"colab-df-convert\" onclick=\"convertToInteractive('df-49bd3b51-4453-447e-a32b-c1a0572011b7')\"\n",
              "            title=\"Convert this dataframe to an interactive table.\"\n",
              "            style=\"display:none;\">\n",
              "\n",
              "  <svg xmlns=\"http://www.w3.org/2000/svg\" height=\"24px\" viewBox=\"0 -960 960 960\">\n",
              "    <path d=\"M120-120v-720h720v720H120Zm60-500h600v-160H180v160Zm220 220h160v-160H400v160Zm0 220h160v-160H400v160ZM180-400h160v-160H180v160Zm440 0h160v-160H620v160ZM180-180h160v-160H180v160Zm440 0h160v-160H620v160Z\"/>\n",
              "  </svg>\n",
              "    </button>\n",
              "\n",
              "  <style>\n",
              "    .colab-df-container {\n",
              "      display:flex;\n",
              "      gap: 12px;\n",
              "    }\n",
              "\n",
              "    .colab-df-convert {\n",
              "      background-color: #E8F0FE;\n",
              "      border: none;\n",
              "      border-radius: 50%;\n",
              "      cursor: pointer;\n",
              "      display: none;\n",
              "      fill: #1967D2;\n",
              "      height: 32px;\n",
              "      padding: 0 0 0 0;\n",
              "      width: 32px;\n",
              "    }\n",
              "\n",
              "    .colab-df-convert:hover {\n",
              "      background-color: #E2EBFA;\n",
              "      box-shadow: 0px 1px 2px rgba(60, 64, 67, 0.3), 0px 1px 3px 1px rgba(60, 64, 67, 0.15);\n",
              "      fill: #174EA6;\n",
              "    }\n",
              "\n",
              "    .colab-df-buttons div {\n",
              "      margin-bottom: 4px;\n",
              "    }\n",
              "\n",
              "    [theme=dark] .colab-df-convert {\n",
              "      background-color: #3B4455;\n",
              "      fill: #D2E3FC;\n",
              "    }\n",
              "\n",
              "    [theme=dark] .colab-df-convert:hover {\n",
              "      background-color: #434B5C;\n",
              "      box-shadow: 0px 1px 3px 1px rgba(0, 0, 0, 0.15);\n",
              "      filter: drop-shadow(0px 1px 2px rgba(0, 0, 0, 0.3));\n",
              "      fill: #FFFFFF;\n",
              "    }\n",
              "  </style>\n",
              "\n",
              "    <script>\n",
              "      const buttonEl =\n",
              "        document.querySelector('#df-49bd3b51-4453-447e-a32b-c1a0572011b7 button.colab-df-convert');\n",
              "      buttonEl.style.display =\n",
              "        google.colab.kernel.accessAllowed ? 'block' : 'none';\n",
              "\n",
              "      async function convertToInteractive(key) {\n",
              "        const element = document.querySelector('#df-49bd3b51-4453-447e-a32b-c1a0572011b7');\n",
              "        const dataTable =\n",
              "          await google.colab.kernel.invokeFunction('convertToInteractive',\n",
              "                                                    [key], {});\n",
              "        if (!dataTable) return;\n",
              "\n",
              "        const docLinkHtml = 'Like what you see? Visit the ' +\n",
              "          '<a target=\"_blank\" href=https://colab.research.google.com/notebooks/data_table.ipynb>data table notebook</a>'\n",
              "          + ' to learn more about interactive tables.';\n",
              "        element.innerHTML = '';\n",
              "        dataTable['output_type'] = 'display_data';\n",
              "        await google.colab.output.renderOutput(dataTable, element);\n",
              "        const docLink = document.createElement('div');\n",
              "        docLink.innerHTML = docLinkHtml;\n",
              "        element.appendChild(docLink);\n",
              "      }\n",
              "    </script>\n",
              "  </div>\n",
              "\n",
              "\n",
              "<div id=\"df-9657a773-3773-4df8-abd4-92725d062a30\">\n",
              "  <button class=\"colab-df-quickchart\" onclick=\"quickchart('df-9657a773-3773-4df8-abd4-92725d062a30')\"\n",
              "            title=\"Suggest charts.\"\n",
              "            style=\"display:none;\">\n",
              "\n",
              "<svg xmlns=\"http://www.w3.org/2000/svg\" height=\"24px\"viewBox=\"0 0 24 24\"\n",
              "     width=\"24px\">\n",
              "    <g>\n",
              "        <path d=\"M19 3H5c-1.1 0-2 .9-2 2v14c0 1.1.9 2 2 2h14c1.1 0 2-.9 2-2V5c0-1.1-.9-2-2-2zM9 17H7v-7h2v7zm4 0h-2V7h2v10zm4 0h-2v-4h2v4z\"/>\n",
              "    </g>\n",
              "</svg>\n",
              "  </button>\n",
              "\n",
              "<style>\n",
              "  .colab-df-quickchart {\n",
              "      --bg-color: #E8F0FE;\n",
              "      --fill-color: #1967D2;\n",
              "      --hover-bg-color: #E2EBFA;\n",
              "      --hover-fill-color: #174EA6;\n",
              "      --disabled-fill-color: #AAA;\n",
              "      --disabled-bg-color: #DDD;\n",
              "  }\n",
              "\n",
              "  [theme=dark] .colab-df-quickchart {\n",
              "      --bg-color: #3B4455;\n",
              "      --fill-color: #D2E3FC;\n",
              "      --hover-bg-color: #434B5C;\n",
              "      --hover-fill-color: #FFFFFF;\n",
              "      --disabled-bg-color: #3B4455;\n",
              "      --disabled-fill-color: #666;\n",
              "  }\n",
              "\n",
              "  .colab-df-quickchart {\n",
              "    background-color: var(--bg-color);\n",
              "    border: none;\n",
              "    border-radius: 50%;\n",
              "    cursor: pointer;\n",
              "    display: none;\n",
              "    fill: var(--fill-color);\n",
              "    height: 32px;\n",
              "    padding: 0;\n",
              "    width: 32px;\n",
              "  }\n",
              "\n",
              "  .colab-df-quickchart:hover {\n",
              "    background-color: var(--hover-bg-color);\n",
              "    box-shadow: 0 1px 2px rgba(60, 64, 67, 0.3), 0 1px 3px 1px rgba(60, 64, 67, 0.15);\n",
              "    fill: var(--button-hover-fill-color);\n",
              "  }\n",
              "\n",
              "  .colab-df-quickchart-complete:disabled,\n",
              "  .colab-df-quickchart-complete:disabled:hover {\n",
              "    background-color: var(--disabled-bg-color);\n",
              "    fill: var(--disabled-fill-color);\n",
              "    box-shadow: none;\n",
              "  }\n",
              "\n",
              "  .colab-df-spinner {\n",
              "    border: 2px solid var(--fill-color);\n",
              "    border-color: transparent;\n",
              "    border-bottom-color: var(--fill-color);\n",
              "    animation:\n",
              "      spin 1s steps(1) infinite;\n",
              "  }\n",
              "\n",
              "  @keyframes spin {\n",
              "    0% {\n",
              "      border-color: transparent;\n",
              "      border-bottom-color: var(--fill-color);\n",
              "      border-left-color: var(--fill-color);\n",
              "    }\n",
              "    20% {\n",
              "      border-color: transparent;\n",
              "      border-left-color: var(--fill-color);\n",
              "      border-top-color: var(--fill-color);\n",
              "    }\n",
              "    30% {\n",
              "      border-color: transparent;\n",
              "      border-left-color: var(--fill-color);\n",
              "      border-top-color: var(--fill-color);\n",
              "      border-right-color: var(--fill-color);\n",
              "    }\n",
              "    40% {\n",
              "      border-color: transparent;\n",
              "      border-right-color: var(--fill-color);\n",
              "      border-top-color: var(--fill-color);\n",
              "    }\n",
              "    60% {\n",
              "      border-color: transparent;\n",
              "      border-right-color: var(--fill-color);\n",
              "    }\n",
              "    80% {\n",
              "      border-color: transparent;\n",
              "      border-right-color: var(--fill-color);\n",
              "      border-bottom-color: var(--fill-color);\n",
              "    }\n",
              "    90% {\n",
              "      border-color: transparent;\n",
              "      border-bottom-color: var(--fill-color);\n",
              "    }\n",
              "  }\n",
              "</style>\n",
              "\n",
              "  <script>\n",
              "    async function quickchart(key) {\n",
              "      const quickchartButtonEl =\n",
              "        document.querySelector('#' + key + ' button');\n",
              "      quickchartButtonEl.disabled = true;  // To prevent multiple clicks.\n",
              "      quickchartButtonEl.classList.add('colab-df-spinner');\n",
              "      try {\n",
              "        const charts = await google.colab.kernel.invokeFunction(\n",
              "            'suggestCharts', [key], {});\n",
              "      } catch (error) {\n",
              "        console.error('Error during call to suggestCharts:', error);\n",
              "      }\n",
              "      quickchartButtonEl.classList.remove('colab-df-spinner');\n",
              "      quickchartButtonEl.classList.add('colab-df-quickchart-complete');\n",
              "    }\n",
              "    (() => {\n",
              "      let quickchartButtonEl =\n",
              "        document.querySelector('#df-9657a773-3773-4df8-abd4-92725d062a30 button');\n",
              "      quickchartButtonEl.style.display =\n",
              "        google.colab.kernel.accessAllowed ? 'block' : 'none';\n",
              "    })();\n",
              "  </script>\n",
              "</div>\n",
              "    </div>\n",
              "  </div>\n"
            ]
          },
          "metadata": {},
          "execution_count": 7
        }
      ]
    },
    {
      "cell_type": "code",
      "source": [
        "real_user_id = 17893165  # Замените на реальный user_id из вашего датасета\n",
        "recommended_item_ids = recommend_for_user_fast(real_user_id)\n",
        "print(f\"Recommended items for user {real_user_id}: {recommended_item_ids}\")"
      ],
      "metadata": {
        "id": "ulcovj5w_Srt"
      },
      "execution_count": null,
      "outputs": []
    },
    {
      "cell_type": "code",
      "source": [
        "# Открытие файла sample_submission.csv\n",
        "submission = pd.read_csv(BASE_PATH + \"sample_submission.csv\")\n",
        "\n",
        "# Создаем пустой список для хранения рекомендаций\n",
        "recommendations = []\n",
        "\n",
        "# В цикле берем значения user_id из submission и вызываем функцию recommend_for_user_fast\n",
        "for user_id in submission['user_id']:\n",
        "    uid = int(user_id.split('_')[1].strip())\n",
        "\n",
        "    recs = recommend_for_user_fast(uid)\n",
        "    # Преобразуем рекомендации в строку, разделенную пробелами (или другим разделителем по вашему выбору)\n",
        "    recs_str = \" \".join(map(str, recs))\n",
        "    recommendations.append(recs_str)\n",
        "\n",
        "# Записываем результат в колонку recs в submission\n",
        "submission['recs'] = recommendations\n",
        "\n",
        "# Сохраняем измененный DataFrame в новый CSV-файл\n",
        "submission.to_csv(\"new_sample_submission.csv\", index=False)"
      ],
      "metadata": {
        "id": "6efOx3C-MSqJ"
      },
      "execution_count": null,
      "outputs": []
    },
    {
      "cell_type": "code",
      "source": [],
      "metadata": {
        "colab": {
          "base_uri": "https://localhost:8080/"
        },
        "id": "b0JejVEOtSY4",
        "outputId": "6acfb221-d660-43c0-db2b-66c9c5a0bf4b"
      },
      "execution_count": null,
      "outputs": [
        {
          "output_type": "stream",
          "name": "stderr",
          "text": [
            "UsageError: Line magic function `%gzip` not found.\n"
          ]
        }
      ]
    }
  ],
  "metadata": {
    "colab": {
      "provenance": []
    },
    "kernelspec": {
      "display_name": "Python 3",
      "name": "python3"
    },
    "language_info": {
      "name": "python"
    }
  },
  "nbformat": 4,
  "nbformat_minor": 0
}